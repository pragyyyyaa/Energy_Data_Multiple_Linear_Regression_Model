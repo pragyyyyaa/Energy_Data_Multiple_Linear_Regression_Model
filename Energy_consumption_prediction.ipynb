{
 "cells": [
  {
   "cell_type": "markdown",
   "metadata": {},
   "source": [
    "# **Appliance Energy Prediction**"
   ]
  },
  {
   "cell_type": "markdown",
   "metadata": {},
   "source": [
    "# **Context of the Problem Statement:**\n",
    "\n",
    "This dataset contains measurements related to energy consumption within a house over a period of 4.5 months.\n",
    "\n",
    "It includes features representing indoor temperature and humidity conditions from various rooms, as well as weather data from a nearby weather station (Chièvres Airport, Belgium).\n",
    "\n",
    "The main objective is to predict the energy use of appliances based on environmental and temporal features.\n",
    "\n",
    "\n",
    "## **Objective:**\n",
    "\n",
    "• Clean and preprocess the dataset.\n",
    "\n",
    "• Perform EDA, Univariate, Bivariate, and Multivariate Analysis to explore and understand the data.\n",
    "\n",
    "• Decide on the appropriate machine learning model to use.\n",
    "\n",
    "• Train the model and evaluate its performance.\n",
    "\n",
    "• Interpret the model results and key features. • Draw conclusions and suggest possible improvements."
   ]
  },
  {
   "cell_type": "markdown",
   "metadata": {},
   "source": [
    "## **Loading required packages and Importing dataset:**"
   ]
  },
  {
   "cell_type": "code",
   "execution_count": null,
   "metadata": {},
   "outputs": [],
   "source": [
    "import numpy as np\n",
    "import pandas as pd\n",
    "energy_data = pd.read_csv('/content/Appliance_Energy.csv')"
   ]
  },
  {
   "cell_type": "markdown",
   "metadata": {},
   "source": [
    "## **View dataset**"
   ]
  },
  {
   "cell_type": "code",
   "execution_count": null,
   "metadata": {},
   "outputs": [],
   "source": [
    "energy_data.head(20)"
   ]
  },
  {
   "cell_type": "code",
   "execution_count": null,
   "metadata": {},
   "outputs": [],
   "source": [
    "energy_data.tail(20)"
   ]
  },
  {
   "cell_type": "markdown",
   "metadata": {},
   "source": [
    "## **Shape of the Dataframe**"
   ]
  },
  {
   "cell_type": "code",
   "execution_count": null,
   "metadata": {},
   "outputs": [],
   "source": [
    "energy_data.shape"
   ]
  },
  {
   "cell_type": "markdown",
   "metadata": {},
   "source": [
    "## **Descriptive Analysis:**"
   ]
  },
  {
   "cell_type": "code",
   "execution_count": null,
   "metadata": {},
   "outputs": [],
   "source": [
    "energy_data.describe()"
   ]
  },
  {
   "cell_type": "markdown",
   "metadata": {},
   "source": [
    "## **Summary of the Data:**"
   ]
  },
  {
   "cell_type": "code",
   "execution_count": null,
   "metadata": {},
   "outputs": [],
   "source": [
    "energy_data.info()"
   ]
  },
  {
   "cell_type": "markdown",
   "metadata": {},
   "source": []
  },
  {
   "cell_type": "code",
   "execution_count": null,
   "metadata": {},
   "outputs": [],
   "source": [
    "energy_data.columns"
   ]
  },
  {
   "cell_type": "markdown",
   "metadata": {},
   "source": [
    "# **Removing Data Column**"
   ]
  },
  {
   "cell_type": "code",
   "execution_count": null,
   "metadata": {},
   "outputs": [],
   "source": [
    "energy_data = energy_data.drop('date', axis=1)"
   ]
  },
  {
   "cell_type": "code",
   "execution_count": null,
   "metadata": {},
   "outputs": [],
   "source": [
    "energy_data.head()"
   ]
  },
  {
   "cell_type": "markdown",
   "metadata": {},
   "source": [
    "## **Checking Null Values:**"
   ]
  },
  {
   "cell_type": "code",
   "execution_count": null,
   "metadata": {},
   "outputs": [],
   "source": [
    "energy_data.isnull().sum()"
   ]
  },
  {
   "cell_type": "markdown",
   "metadata": {},
   "source": [
    "## **Check for missing values:**"
   ]
  },
  {
   "cell_type": "code",
   "execution_count": null,
   "metadata": {},
   "outputs": [],
   "source": [
    "energy_data.duplicated().sum()"
   ]
  },
  {
   "cell_type": "markdown",
   "metadata": {},
   "source": [
    "## **Outlier Detection: Through Box Plot**"
   ]
  },
  {
   "cell_type": "code",
   "execution_count": null,
   "metadata": {},
   "outputs": [],
   "source": [
    "import matplotlib.pyplot as plt\n",
    "import seaborn as sns\n",
    "\n",
    "numeric_cols = energy_data.select_dtypes(include=['number']).columns\n",
    "\n",
    "for col in numeric_cols:\n",
    "  # Calculate Q1, Q3, and IQR\n",
    "  Q1 = energy_data[col].quantile(0.25)\n",
    "  Q3 = energy_data[col].quantile(0.75)\n",
    "  IQR = Q3 - Q1\n",
    "\n",
    "  # Define bounds for outliers\n",
    "  lower_bound = Q1 - 1.5 * IQR\n",
    "  upper_bound = Q3 + 1.5 * IQR\n",
    "\n",
    "  # Identify outliers\n",
    "  outliers = energy_data[(energy_data[col] < lower_bound) | (energy_data[col] > upper_bound)]\n",
    "\n",
    "  print(f\"Outliers in {col}:\")\n",
    "  print(outliers)\n",
    "\n",
    "  # Plot box plot\n",
    "  plt.figure(figsize=(8, 6))\n",
    "  sns.boxplot(x=energy_data[col])\n",
    "  plt.title(f\"Box Plot of {col}\")\n",
    "  plt.show()\n"
   ]
  },
  {
   "cell_type": "markdown",
   "metadata": {},
   "source": [
    "## **Treating Outliers**"
   ]
  },
  {
   "cell_type": "code",
   "execution_count": null,
   "metadata": {},
   "outputs": [],
   "source": [
    "def treat_outliers_iqr(df, col):\n",
    "    Q1 = df[col].quantile(0.25)\n",
    "    Q3 = df[col].quantile(0.75)\n",
    "    IQR = Q3 - Q1\n",
    "    lower_bound = Q1 - 1.5 * IQR\n",
    "    upper_bound = Q3 + 1.5 * IQR\n",
    "\n",
    "    # Replace outliers with the bounds\n",
    "    df[col] = df[col].clip(lower=lower_bound, upper=upper_bound)\n",
    "    return df\n",
    "\n",
    "\n",
    "numeric_cols = energy_data.select_dtypes(include=['number']).columns\n",
    "\n",
    "for col in numeric_cols:\n",
    "  energy_data = treat_outliers_iqr(energy_data, col)\n",
    "\n",
    "# Now energy_data has outliers replaced by the bounds.  You can verify this:\n",
    "for col in numeric_cols:\n",
    "  # Calculate Q1, Q3, and IQR\n",
    "  Q1 = energy_data[col].quantile(0.25)\n",
    "  Q3 = energy_data[col].quantile(0.75)\n",
    "  IQR = Q3 - Q1\n",
    "\n",
    "  # Define bounds for outliers\n",
    "  lower_bound = Q1 - 1.5 * IQR\n",
    "  upper_bound = Q3 + 1.5 * IQR\n",
    "\n",
    "  # Identify outliers\n",
    "  outliers = energy_data[(energy_data[col] < lower_bound) | (energy_data[col] > upper_bound)]\n",
    "\n",
    "  print(f\"Outliers in {col} after treatment:\")\n",
    "  print(outliers)\n",
    "\n",
    "  # Plot box plot\n",
    "  plt.figure(figsize=(8, 6))\n",
    "  sns.boxplot(x=energy_data[col])\n",
    "  plt.title(f\"Box Plot of {col} after treatment\")\n",
    "  plt.show()\n"
   ]
  },
  {
   "cell_type": "markdown",
   "metadata": {},
   "source": [
    "# **Scaling the data**"
   ]
  },
  {
   "cell_type": "code",
   "execution_count": null,
   "metadata": {},
   "outputs": [],
   "source": [
    "from sklearn.preprocessing import MinMaxScaler\n",
    "\n",
    "# Create a MinMaxScaler object\n",
    "scaler = MinMaxScaler()\n",
    "\n",
    "# Fit and transform the data\n",
    "scaled_data = scaler.fit_transform(energy_data)\n",
    "\n",
    "# Create a new DataFrame with the scaled data\n",
    "energy_data_scaled = pd.DataFrame(scaled_data, columns=energy_data.columns)\n",
    "\n",
    "# Print the scaled DataFrame\n",
    "energy_data_scaled\n"
   ]
  },
  {
   "cell_type": "markdown",
   "metadata": {},
   "source": [
    "## **Defining Independent variables as 'x' and dependent variable as 'y':**"
   ]
  },
  {
   "cell_type": "code",
   "execution_count": null,
   "metadata": {},
   "outputs": [],
   "source": [
    "# prompt: define variable y as Appliance column in energy_data and define variable x as all columns in energy_data except Appliances\n",
    "\n",
    "y = energy_data['Appliances']\n",
    "x = energy_data.drop('Appliances', axis=1)\n"
   ]
  },
  {
   "cell_type": "code",
   "execution_count": null,
   "metadata": {},
   "outputs": [],
   "source": [
    "x"
   ]
  },
  {
   "cell_type": "code",
   "execution_count": null,
   "metadata": {},
   "outputs": [],
   "source": [
    "y"
   ]
  },
  {
   "cell_type": "markdown",
   "metadata": {},
   "source": [
    "# **Univariate Analysis**"
   ]
  },
  {
   "cell_type": "code",
   "execution_count": null,
   "metadata": {},
   "outputs": [],
   "source": [
    "#for x\n",
    "for col in x.columns:\n",
    "    plt.figure(figsize=(8, 6))\n",
    "    if x[col].dtype == 'float64' or x[col].dtype == 'int64':\n",
    "        # Histogram\n",
    "        sns.histplot(x[col], kde=True)\n",
    "        plt.title(f\"Distribution of {col}\")\n",
    "        plt.show()\n",
    "\n",
    "        # Density plot\n",
    "        sns.kdeplot(x[col])\n",
    "        plt.title(f\"Density plot of {col}\")\n",
    "        plt.show()\n",
    "    else:\n",
    "      # Count plot for categorical features\n",
    "        sns.countplot(x=x[col])\n",
    "        plt.title(f\"Count Plot of {col}\")\n",
    "        plt.show()\n",
    "#for y\n",
    "plt.figure(figsize=(8, 6))\n",
    "\n",
    "if y.dtype == 'float64' or y.dtype == 'int64':\n",
    "    # Histogram\n",
    "    sns.histplot(y, kde=True)\n",
    "    plt.title(\"Distribution of Appliances\")\n",
    "    plt.show()\n",
    "\n",
    "    # Density plot\n",
    "    sns.kdeplot(y)\n",
    "    plt.title(\"Density plot of Appliances\")\n",
    "    plt.show()\n"
   ]
  },
  {
   "cell_type": "markdown",
   "metadata": {},
   "source": [
    "# **Bivariate Analysis**"
   ]
  },
  {
   "cell_type": "code",
   "execution_count": null,
   "metadata": {},
   "outputs": [],
   "source": [
    "# Violin plots for each independent variable against the dependent variable\n",
    "for col in x.columns:\n",
    "    plt.figure(figsize=(8, 6))\n",
    "    sns.violinplot(x=energy_data[col], y=y)\n",
    "    plt.title(f'Violin Plot of {col} vs. Appliances')\n",
    "    plt.show()"
   ]
  },
  {
   "cell_type": "markdown",
   "metadata": {},
   "source": [
    "## **Checking linearity using Scatter Plot**"
   ]
  },
  {
   "cell_type": "code",
   "execution_count": null,
   "metadata": {},
   "outputs": [],
   "source": [
    "#scatter plots\n",
    "for col in x.columns:\n",
    "  plt.figure(figsize=(8, 6))\n",
    "  plt.scatter(x[col], y)\n",
    "  plt.xlabel(col)\n",
    "  plt.ylabel('Appliances')\n",
    "  plt.title(f'Scatter Plot of {col} vs. Appliances')\n",
    "  plt.show()\n"
   ]
  },
  {
   "cell_type": "markdown",
   "metadata": {},
   "source": [
    "## **Extracting Correlation Matrix:**"
   ]
  },
  {
   "cell_type": "code",
   "execution_count": null,
   "metadata": {},
   "outputs": [],
   "source": [
    "# heatmap\n",
    "correlation_matrix = x.corrwith(y)\n",
    "\n",
    "print(\"Correlation of each feature with Appliances:\")\n",
    "print(correlation_matrix)\n",
    "\n",
    "plt.figure(figsize=(25, 20))\n",
    "sns.heatmap(x.corr(), annot=True, cmap='coolwarm')\n",
    "plt.title('Correlation Matrix of Features')\n",
    "plt.show()\n"
   ]
  },
  {
   "cell_type": "markdown",
   "metadata": {},
   "source": [
    "# **Multivarite Analysis**"
   ]
  },
  {
   "cell_type": "code",
   "execution_count": null,
   "metadata": {},
   "outputs": [],
   "source": [
    "# pairplot\n",
    "df_pairplot = pd.concat([x, y], axis=1)\n",
    "\n",
    "sns.pairplot(df_pairplot)\n",
    "plt.show()\n"
   ]
  },
  {
   "cell_type": "markdown",
   "metadata": {},
   "source": [
    "## **Checking Multi-colinearity using Variance Inflation Factor**"
   ]
  },
  {
   "cell_type": "markdown",
   "metadata": {},
   "source": []
  },
  {
   "cell_type": "code",
   "execution_count": null,
   "metadata": {},
   "outputs": [],
   "source": [
    "from statsmodels.stats.outliers_influence import variance_inflation_factor\n",
    "\n",
    "# Calculate VIF for each feature\n",
    "vif = pd.DataFrame()\n",
    "vif[\"VIF Factor\"] = [variance_inflation_factor(x.values, i) for i in range(x.shape[1])]\n",
    "vif[\"features\"] = x.columns\n",
    "\n",
    "vif"
   ]
  },
  {
   "cell_type": "markdown",
   "metadata": {},
   "source": [
    "## **Dropping the Columns containing Multi-colinearity**"
   ]
  },
  {
   "cell_type": "code",
   "execution_count": null,
   "metadata": {},
   "outputs": [],
   "source": [
    "# Drop columns 'rv1' and 'rv2'\n",
    "energy_data = energy_data.drop(['rv1', 'rv2'], axis=1)"
   ]
  },
  {
   "cell_type": "code",
   "execution_count": null,
   "metadata": {},
   "outputs": [],
   "source": [
    "energy_data.columns"
   ]
  },
  {
   "cell_type": "markdown",
   "metadata": {},
   "source": [
    "## **Extracting Multiple Linear regression Model**"
   ]
  },
  {
   "cell_type": "code",
   "execution_count": null,
   "metadata": {},
   "outputs": [],
   "source": [
    "import statsmodels.api as sm\n",
    "\n",
    "x = sm.add_constant(x) # Adding a constant term to the independent variables\n",
    "model = sm.OLS(y, x).fit()\n",
    "print(model.summary())\n",
    "\n",
    "print(\"\\nP-values for each coefficient:\")\n",
    "model.pvalues\n"
   ]
  },
  {
   "cell_type": "markdown",
   "metadata": {},
   "source": [
    "## ***Dropping all Insignificant Independent Variables stepwise ***"
   ]
  },
  {
   "cell_type": "code",
   "execution_count": null,
   "metadata": {},
   "outputs": [],
   "source": [
    "x = energy_data.drop('Appliances', axis=1)\n",
    "y = energy_data['Appliances']\n",
    "\n",
    "x = sm.add_constant(x)  # Adding a constant term to the independent variables\n",
    "\n",
    "# Iterate and remove columns based on p-values\n",
    "columns_to_remove = []\n",
    "while True:\n",
    "    model = sm.OLS(y, x).fit()\n",
    "    print(model.summary())\n",
    "    print(\"\\nP-values for each coefficient:\\n\", model.pvalues)\n",
    "\n",
    "    p_values = model.pvalues.drop('const') #exclude intercept\n",
    "    max_p_value = p_values.max()\n",
    "\n",
    "    if max_p_value > 0.05:\n",
    "        column_to_remove = p_values.idxmax()\n",
    "        print(f\"\\nRemoving column '{column_to_remove}' with p-value {max_p_value:.3f}\")\n",
    "        columns_to_remove.append(column_to_remove)\n",
    "        x = x.drop(column_to_remove, axis=1)\n",
    "    else:\n",
    "        break\n",
    "\n",
    "print(\"\\nFinal Model Summary:\")\n",
    "final_model = sm.OLS(y, x).fit()\n",
    "print(final_model.summary())\n",
    "print(\"\\nFinal p-values:\\n\", final_model.pvalues)\n",
    "print(\"\\nColumns removed:\", columns_to_remove)\n"
   ]
  },
  {
   "cell_type": "markdown",
   "metadata": {},
   "source": [
    "Interpretation- Out of 27 independent variables only 18 remain significant. r-squared value = 0.190 implies 19% of the change in dependent variable is estimated by the 18 statistically significant independent variables."
   ]
  },
  {
   "cell_type": "markdown",
   "metadata": {},
   "source": [
    "# **Model Diagnostics: Testing the model**"
   ]
  },
  {
   "cell_type": "markdown",
   "metadata": {},
   "source": [
    "### **Checking wether Residuals are Normally Distributed** bold text"
   ]
  },
  {
   "cell_type": "code",
   "execution_count": null,
   "metadata": {},
   "outputs": [],
   "source": [
    "# Get the residuals\n",
    "residuals = final_model.resid\n",
    "\n",
    "# Display the residuals\n",
    "print(\"Residuals:\\n\", residuals)\n",
    "\n",
    "# Plot the residuals on a histogram\n",
    "plt.figure(figsize=(8, 6))\n",
    "sns.histplot(residuals, kde=True)\n",
    "plt.title('Histogram of Residuals')\n",
    "plt.xlabel('Residuals')\n",
    "plt.ylabel('Frequency')\n",
    "\n",
    "# Add a line to check for normal distribution\n",
    "plt.axvline(residuals.mean(), color='r', linestyle='dashed', linewidth=2, label='Mean')\n",
    "plt.legend()\n",
    "plt.show()\n"
   ]
  },
  {
   "cell_type": "markdown",
   "metadata": {},
   "source": [
    "## **Cheking wether the Residuals exhibit Homoscedasticity **"
   ]
  },
  {
   "cell_type": "markdown",
   "metadata": {},
   "source": [
    "## **Using Scatter Plot**"
   ]
  },
  {
   "cell_type": "code",
   "execution_count": null,
   "metadata": {},
   "outputs": [],
   "source": [
    "# Get the predicted values\n",
    "predicted_values = final_model.fittedvalues\n",
    "\n",
    "# Create a scatter plot of residuals vs. predicted values\n",
    "plt.figure(figsize=(10, 6))\n",
    "sns.scatterplot(x=predicted_values, y=residuals)\n",
    "plt.xlabel(\"Predicted Values\")\n",
    "plt.ylabel(\"Residuals\")\n",
    "plt.title(\"Residuals vs. Predicted Values\")\n",
    "plt.axhline(y=0, color='r', linestyle='--')  # Add a horizontal line at y=0\n",
    "plt.show()\n"
   ]
  },
  {
   "cell_type": "markdown",
   "metadata": {},
   "source": [
    "# **Conclusion:**\n",
    "\n",
    "Scatter plot exhibitted Heteroscadasticity in residuals.\n",
    "\n",
    "R-squared remained 0.190, which implies that the using MLR model for this data is not the best fit.\n",
    "\n",
    "Using other regressions model like random forest and neural network will increase the accuracy of the model."
   ]
  }
 ],
 "metadata": {},
 "nbformat": 4,
 "nbformat_minor": 1
}
